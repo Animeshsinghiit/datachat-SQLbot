{
 "cells": [
  {
   "cell_type": "code",
   "execution_count": 1,
   "id": "1706d991",
   "metadata": {},
   "outputs": [],
   "source": [
    "import pandas as pd\n",
    "from sqlalchemy import create_engine,text\n",
    "\n",
    "import os \n",
    "from datetime import datetime"
   ]
  },
  {
   "cell_type": "code",
   "execution_count": 2,
   "id": "bfc7a93b",
   "metadata": {},
   "outputs": [],
   "source": [
    "data_path = os.path.join(os.getcwd(),\".\\sample_data\")"
   ]
  },
  {
   "cell_type": "code",
   "execution_count": 3,
   "id": "7331683e",
   "metadata": {},
   "outputs": [
    {
     "data": {
      "text/plain": [
       "['superstore_orders.csv', 'superstore_returns.csv']"
      ]
     },
     "execution_count": 3,
     "metadata": {},
     "output_type": "execute_result"
    }
   ],
   "source": [
    "os.listdir(data_path)"
   ]
  },
  {
   "cell_type": "code",
   "execution_count": 4,
   "id": "9adbcc46",
   "metadata": {},
   "outputs": [],
   "source": [
    "superstore_data = pd.read_csv(os.path.join(data_path,'superstore_orders.csv'),encoding = 'latin')"
   ]
  },
  {
   "cell_type": "code",
   "execution_count": 5,
   "id": "be3f23d0",
   "metadata": {},
   "outputs": [],
   "source": [
    "def date_alignment(parent_data,date_col):\n",
    "    df = parent_data.copy()\n",
    "    \n",
    "    def calculate_date_difference(df, date_column1, date_column2, difference_column):\n",
    "        df[date_column1] = pd.to_datetime(df[date_column1], format='%d/%m/%y')\n",
    "        df[date_column2] = pd.to_datetime(df[date_column2], format='%d/%m/%y')\n",
    "        df[difference_column] = (df[date_column1] - df[date_column2]).dt.days\n",
    "        return df\n",
    "    \n",
    "    df = calculate_date_difference(df,date_col,\"Order Date\", \"date_diff\")\n",
    "    \n",
    "    print(\"actual min date :\",df[date_col].min(),\n",
    "          \"\\nactual max_date :\",df[date_col].max())\n",
    "    \n",
    "    current_date = datetime.now().date()\n",
    "    current_datetime = datetime.combine(current_date, datetime.min.time())\n",
    "    current_date = pd.Timestamp(current_datetime)\n",
    "    \n",
    "    offset = current_date.date() - df[date_col].max().date()\n",
    "    df[date_col] = df[date_col] + pd.to_timedelta(offset)\n",
    "    \n",
    "    print(\"---------------------------------------------\")\n",
    "    print(\"aligned min date :\",df[date_col].min(),\n",
    "          \"\\naligned max_date :\",df[date_col].max())\n",
    "    \n",
    "    df['Order Date'] = df[date_col] - pd.to_timedelta(df['date_diff'], unit='d')\n",
    "    df.drop(columns = [\"date_diff\"], inplace = True)\n",
    "    \n",
    "    return df"
   ]
  },
  {
   "cell_type": "code",
   "execution_count": 6,
   "id": "c23a9b62",
   "metadata": {},
   "outputs": [
    {
     "name": "stdout",
     "output_type": "stream",
     "text": [
      "actual min date : 2019-01-07 00:00:00 \n",
      "actual max_date : 2023-01-05 00:00:00\n",
      "---------------------------------------------\n",
      "aligned min date : 2020-07-26 00:00:00 \n",
      "aligned max_date : 2024-07-24 00:00:00\n"
     ]
    }
   ],
   "source": [
    "orders_df = date_alignment(superstore_data,\"Ship Date\")"
   ]
  },
  {
   "cell_type": "code",
   "execution_count": 7,
   "id": "22e22c14",
   "metadata": {
    "scrolled": false
   },
   "outputs": [
    {
     "data": {
      "text/html": [
       "<div>\n",
       "<style scoped>\n",
       "    .dataframe tbody tr th:only-of-type {\n",
       "        vertical-align: middle;\n",
       "    }\n",
       "\n",
       "    .dataframe tbody tr th {\n",
       "        vertical-align: top;\n",
       "    }\n",
       "\n",
       "    .dataframe thead th {\n",
       "        text-align: right;\n",
       "    }\n",
       "</style>\n",
       "<table border=\"1\" class=\"dataframe\">\n",
       "  <thead>\n",
       "    <tr style=\"text-align: right;\">\n",
       "      <th></th>\n",
       "      <th>Row ID</th>\n",
       "      <th>Order ID</th>\n",
       "      <th>Order Date</th>\n",
       "      <th>Ship Date</th>\n",
       "      <th>Ship Mode</th>\n",
       "      <th>Customer ID</th>\n",
       "      <th>Customer Name</th>\n",
       "      <th>Segment</th>\n",
       "      <th>Country/Region</th>\n",
       "      <th>City</th>\n",
       "      <th>...</th>\n",
       "      <th>Postal Code</th>\n",
       "      <th>Region</th>\n",
       "      <th>Product ID</th>\n",
       "      <th>Category</th>\n",
       "      <th>Sub-Category</th>\n",
       "      <th>Product Name</th>\n",
       "      <th>Sales</th>\n",
       "      <th>Quantity</th>\n",
       "      <th>Discount</th>\n",
       "      <th>Profit</th>\n",
       "    </tr>\n",
       "  </thead>\n",
       "  <tbody>\n",
       "    <tr>\n",
       "      <th>0</th>\n",
       "      <td>1</td>\n",
       "      <td>US-2019-103800</td>\n",
       "      <td>2020-07-22</td>\n",
       "      <td>2020-07-26</td>\n",
       "      <td>Standard Class</td>\n",
       "      <td>DP-13000</td>\n",
       "      <td>Darren Powers</td>\n",
       "      <td>Consumer</td>\n",
       "      <td>United States</td>\n",
       "      <td>Houston</td>\n",
       "      <td>...</td>\n",
       "      <td>77095</td>\n",
       "      <td>Central</td>\n",
       "      <td>OFF-PA-10000174</td>\n",
       "      <td>Office Supplies</td>\n",
       "      <td>Paper</td>\n",
       "      <td>Message Book, Wirebound, Four 5 1/2\" X 4\" Form...</td>\n",
       "      <td>16.448</td>\n",
       "      <td>2</td>\n",
       "      <td>0.2</td>\n",
       "      <td>5.5512</td>\n",
       "    </tr>\n",
       "    <tr>\n",
       "      <th>1</th>\n",
       "      <td>2</td>\n",
       "      <td>US-2019-112326</td>\n",
       "      <td>2020-07-23</td>\n",
       "      <td>2020-07-27</td>\n",
       "      <td>Standard Class</td>\n",
       "      <td>PO-19195</td>\n",
       "      <td>Phillina Ober</td>\n",
       "      <td>Home Office</td>\n",
       "      <td>United States</td>\n",
       "      <td>Naperville</td>\n",
       "      <td>...</td>\n",
       "      <td>60540</td>\n",
       "      <td>Central</td>\n",
       "      <td>OFF-BI-10004094</td>\n",
       "      <td>Office Supplies</td>\n",
       "      <td>Binders</td>\n",
       "      <td>GBC Standard Plastic Binding Systems Combs</td>\n",
       "      <td>3.540</td>\n",
       "      <td>2</td>\n",
       "      <td>0.8</td>\n",
       "      <td>-5.4870</td>\n",
       "    </tr>\n",
       "    <tr>\n",
       "      <th>2</th>\n",
       "      <td>3</td>\n",
       "      <td>US-2019-112326</td>\n",
       "      <td>2020-07-23</td>\n",
       "      <td>2020-07-27</td>\n",
       "      <td>Standard Class</td>\n",
       "      <td>PO-19195</td>\n",
       "      <td>Phillina Ober</td>\n",
       "      <td>Home Office</td>\n",
       "      <td>United States</td>\n",
       "      <td>Naperville</td>\n",
       "      <td>...</td>\n",
       "      <td>60540</td>\n",
       "      <td>Central</td>\n",
       "      <td>OFF-LA-10003223</td>\n",
       "      <td>Office Supplies</td>\n",
       "      <td>Labels</td>\n",
       "      <td>Avery 508</td>\n",
       "      <td>11.784</td>\n",
       "      <td>3</td>\n",
       "      <td>0.2</td>\n",
       "      <td>4.2717</td>\n",
       "    </tr>\n",
       "    <tr>\n",
       "      <th>3</th>\n",
       "      <td>4</td>\n",
       "      <td>US-2019-112326</td>\n",
       "      <td>2020-07-23</td>\n",
       "      <td>2020-07-27</td>\n",
       "      <td>Standard Class</td>\n",
       "      <td>PO-19195</td>\n",
       "      <td>Phillina Ober</td>\n",
       "      <td>Home Office</td>\n",
       "      <td>United States</td>\n",
       "      <td>Naperville</td>\n",
       "      <td>...</td>\n",
       "      <td>60540</td>\n",
       "      <td>Central</td>\n",
       "      <td>OFF-ST-10002743</td>\n",
       "      <td>Office Supplies</td>\n",
       "      <td>Storage</td>\n",
       "      <td>SAFCO Boltless Steel Shelving</td>\n",
       "      <td>272.736</td>\n",
       "      <td>3</td>\n",
       "      <td>0.2</td>\n",
       "      <td>-64.7748</td>\n",
       "    </tr>\n",
       "    <tr>\n",
       "      <th>4</th>\n",
       "      <td>5</td>\n",
       "      <td>US-2019-141817</td>\n",
       "      <td>2020-07-24</td>\n",
       "      <td>2020-07-31</td>\n",
       "      <td>Standard Class</td>\n",
       "      <td>MB-18085</td>\n",
       "      <td>Mick Brown</td>\n",
       "      <td>Consumer</td>\n",
       "      <td>United States</td>\n",
       "      <td>Philadelphia</td>\n",
       "      <td>...</td>\n",
       "      <td>19143</td>\n",
       "      <td>East</td>\n",
       "      <td>OFF-AR-10003478</td>\n",
       "      <td>Office Supplies</td>\n",
       "      <td>Art</td>\n",
       "      <td>Avery Hi-Liter EverBold Pen Style Fluorescent ...</td>\n",
       "      <td>19.536</td>\n",
       "      <td>3</td>\n",
       "      <td>0.2</td>\n",
       "      <td>4.8840</td>\n",
       "    </tr>\n",
       "  </tbody>\n",
       "</table>\n",
       "<p>5 rows × 21 columns</p>\n",
       "</div>"
      ],
      "text/plain": [
       "   Row ID        Order ID Order Date  Ship Date       Ship Mode Customer ID  \\\n",
       "0       1  US-2019-103800 2020-07-22 2020-07-26  Standard Class    DP-13000   \n",
       "1       2  US-2019-112326 2020-07-23 2020-07-27  Standard Class    PO-19195   \n",
       "2       3  US-2019-112326 2020-07-23 2020-07-27  Standard Class    PO-19195   \n",
       "3       4  US-2019-112326 2020-07-23 2020-07-27  Standard Class    PO-19195   \n",
       "4       5  US-2019-141817 2020-07-24 2020-07-31  Standard Class    MB-18085   \n",
       "\n",
       "   Customer Name      Segment Country/Region          City  ... Postal Code  \\\n",
       "0  Darren Powers     Consumer  United States       Houston  ...       77095   \n",
       "1  Phillina Ober  Home Office  United States    Naperville  ...       60540   \n",
       "2  Phillina Ober  Home Office  United States    Naperville  ...       60540   \n",
       "3  Phillina Ober  Home Office  United States    Naperville  ...       60540   \n",
       "4     Mick Brown     Consumer  United States  Philadelphia  ...       19143   \n",
       "\n",
       "    Region       Product ID         Category Sub-Category  \\\n",
       "0  Central  OFF-PA-10000174  Office Supplies        Paper   \n",
       "1  Central  OFF-BI-10004094  Office Supplies      Binders   \n",
       "2  Central  OFF-LA-10003223  Office Supplies       Labels   \n",
       "3  Central  OFF-ST-10002743  Office Supplies      Storage   \n",
       "4     East  OFF-AR-10003478  Office Supplies          Art   \n",
       "\n",
       "                                        Product Name    Sales  Quantity  \\\n",
       "0  Message Book, Wirebound, Four 5 1/2\" X 4\" Form...   16.448         2   \n",
       "1         GBC Standard Plastic Binding Systems Combs    3.540         2   \n",
       "2                                          Avery 508   11.784         3   \n",
       "3                      SAFCO Boltless Steel Shelving  272.736         3   \n",
       "4  Avery Hi-Liter EverBold Pen Style Fluorescent ...   19.536         3   \n",
       "\n",
       "   Discount   Profit  \n",
       "0       0.2   5.5512  \n",
       "1       0.8  -5.4870  \n",
       "2       0.2   4.2717  \n",
       "3       0.2 -64.7748  \n",
       "4       0.2   4.8840  \n",
       "\n",
       "[5 rows x 21 columns]"
      ]
     },
     "execution_count": 7,
     "metadata": {},
     "output_type": "execute_result"
    }
   ],
   "source": [
    "orders_df.head()"
   ]
  },
  {
   "cell_type": "code",
   "execution_count": 8,
   "id": "2e17e345",
   "metadata": {},
   "outputs": [
    {
     "data": {
      "text/plain": [
       "Timestamp('2024-07-24 00:00:00')"
      ]
     },
     "execution_count": 8,
     "metadata": {},
     "output_type": "execute_result"
    }
   ],
   "source": [
    "orders_df[\"Ship Date\"].max()"
   ]
  },
  {
   "cell_type": "code",
   "execution_count": 9,
   "id": "baf0515d",
   "metadata": {},
   "outputs": [
    {
     "data": {
      "text/plain": [
       "Timestamp('2024-07-18 00:00:00')"
      ]
     },
     "execution_count": 9,
     "metadata": {},
     "output_type": "execute_result"
    }
   ],
   "source": [
    "orders_df[\"Order Date\"].max()"
   ]
  },
  {
   "cell_type": "code",
   "execution_count": 10,
   "id": "ed7c60d2",
   "metadata": {},
   "outputs": [],
   "source": [
    "column_mapping = {\n",
    "    'Row ID': 'row_id',\n",
    "    'Order ID': 'order_id',\n",
    "    'Order Date': 'order_date',\n",
    "    'Ship Date': 'ship_date',\n",
    "    'Ship Mode': 'ship_mode',\n",
    "    'Customer ID': 'customer_id',\n",
    "    'Customer Name': 'customer_name',\n",
    "    'Segment': 'segment',\n",
    "    'Country/Region': 'country_region',\n",
    "    'City': 'city',\n",
    "    'State/Province': 'state_province',\n",
    "    'Postal Code': 'postal_code',\n",
    "    'Region': 'region',\n",
    "    'Product ID': 'product_id',\n",
    "    'Category': 'category',\n",
    "    'Sub-Category': 'sub_category',\n",
    "    'Product Name': 'product_name',\n",
    "    'Sales': 'sales',\n",
    "    'Quantity': 'quantity',\n",
    "    'Discount': 'discount',\n",
    "    'Profit': 'profit'\n",
    "}\n",
    "orders_df.rename(columns=column_mapping, inplace=True)"
   ]
  },
  {
   "cell_type": "code",
   "execution_count": 12,
   "id": "72702d00",
   "metadata": {},
   "outputs": [],
   "source": [
    "orders_df.to_csv(\"orders_superstore_24_july_2024.csv\",index = False)"
   ]
  },
  {
   "cell_type": "code",
   "execution_count": 11,
   "id": "bc60b3bc",
   "metadata": {},
   "outputs": [
    {
     "name": "stdout",
     "output_type": "stream",
     "text": [
      "Table data replaced successfully.\n"
     ]
    }
   ],
   "source": [
    "db_host = 'localhost'\n",
    "db_port = 5432\n",
    "db_username = 'postgres'\n",
    "db_pass = 'animesh'\n",
    "db_name = 'data_store'\n",
    "\n",
    "db_uri = f\"postgresql+psycopg2://{db_username}:{db_pass}@{db_host}:{db_port}/{db_name}\"\n",
    "\n",
    "\n",
    "engine = create_engine(db_uri)\n",
    "\n",
    "def replace_table_data(data, table_name):\n",
    "\n",
    "    with engine.connect() as connection:\n",
    "        with connection.begin():\n",
    "            connection.execute(text(f\"DELETE FROM {table_name}\"))\n",
    "            \n",
    "            data.to_sql(table_name, connection, if_exists='append', index=False)\n",
    "\n",
    "\n",
    "replace_table_data(orders_df, 'superstore')\n",
    "\n",
    "print(\"Table data replaced successfully.\")\n"
   ]
  },
  {
   "cell_type": "code",
   "execution_count": 38,
   "id": "82e0e27b",
   "metadata": {},
   "outputs": [
    {
     "data": {
      "text/html": [
       "<div>\n",
       "<style scoped>\n",
       "    .dataframe tbody tr th:only-of-type {\n",
       "        vertical-align: middle;\n",
       "    }\n",
       "\n",
       "    .dataframe tbody tr th {\n",
       "        vertical-align: top;\n",
       "    }\n",
       "\n",
       "    .dataframe thead th {\n",
       "        text-align: right;\n",
       "    }\n",
       "</style>\n",
       "<table border=\"1\" class=\"dataframe\">\n",
       "  <thead>\n",
       "    <tr style=\"text-align: right;\">\n",
       "      <th></th>\n",
       "      <th>average_order_value</th>\n",
       "    </tr>\n",
       "  </thead>\n",
       "  <tbody>\n",
       "    <tr>\n",
       "      <th>0</th>\n",
       "      <td>455.2014322050479358</td>\n",
       "    </tr>\n",
       "  </tbody>\n",
       "</table>\n",
       "</div>"
      ],
      "text/plain": [
       "    average_order_value\n",
       "0  455.2014322050479358"
      ]
     },
     "execution_count": 38,
     "metadata": {},
     "output_type": "execute_result"
    }
   ],
   "source": [
    "def query_table(table_name, query):\n",
    "   \n",
    "    with engine.connect() as connection:\n",
    "        result = connection.execute(text(query))\n",
    "        df = pd.DataFrame(result.fetchall(), columns=result.keys())\n",
    "    \n",
    "    return df\n",
    "\n",
    "\n",
    "query = \"\"\"\n",
    "\n",
    "WITH current_year_sales AS \n",
    "(SELECT SUM(\"sales\") AS total_sales \n",
    "FROM \"superstore\" \n",
    "WHERE \"order_date\" >= DATE_TRUNC('year', CURRENT_DATE) AND \"order_date\" < DATE_TRUNC('year', CURRENT_DATE) + INTERVAL '1 year'),\n",
    "\n",
    "\n",
    "last_year_sales AS \n",
    "(SELECT SUM(\"sales\") AS total_sales \n",
    "FROM \"superstore\" \n",
    "WHERE \"order_date\" >= DATE_TRUNC('year', CURRENT_DATE) - INTERVAL '1 year' AND \"order_date\" < DATE_TRUNC('year', CURRENT_DATE))\n",
    "\n",
    "SELECT (current_year_sales.total_sales - last_year_sales.total_sales) / NULLIF(last_year_sales.total_sales, 0) * 100 AS percentage_change FROM current_year_sales, last_year_sales;\n",
    "\n",
    "\"\"\"  \n",
    "\n",
    "\n",
    "\n",
    "result_df = query_table('superstore', query)\n",
    "result_df"
   ]
  },
  {
   "cell_type": "code",
   "execution_count": null,
   "id": "b8b3609b",
   "metadata": {},
   "outputs": [],
   "source": [
    "\"\"\"\n",
    "SELECT\n",
    "   SUM(\"sales\") AS total_sales,\n",
    "   DATE_TRUNC('week', \"order_date\") AS week_start\n",
    "FROM \"superstore\"\n",
    "WHERE \"order_date\" >= CURRENT_DATE - INTERVAL '7 days'\n",
    "GROUP BY week_start\n",
    "\n",
    "UNION ALL\n",
    "SELECT \n",
    "    SUM(\"sales\") AS total_sales,\n",
    "    DATE_TRUNC('week', \"order_date\") AS week_start\n",
    "FROM \"superstore\"\n",
    "WHERE \"order_date\" >= CURRENT_DATE - INTERVAL '37 days' AND \"order_date\" < CURRENT_DATE - INTERVAL '30 days' \n",
    "GROUP BY week_start\n",
    "ORDER BY week_start DESC \n",
    "LIMIT 100;\n",
    "\n",
    "\"\"\""
   ]
  },
  {
   "cell_type": "code",
   "execution_count": null,
   "id": "90345c7c",
   "metadata": {},
   "outputs": [],
   "source": [
    "\"\"\"\n",
    "SELECT \n",
    "    SUM(\"sales\") AS total_sales, \n",
    "    DATE_TRUNC('week', \"order_date\") AS week_start \n",
    "FROM \"superstore\" \n",
    "WHERE \"order_date\" >= DATE_TRUNC('week', CURRENT_DATE) - INTERVAL '7 days' \n",
    "AND \"order_date\" < DATE_TRUNC('week', CURRENT_DATE)\n",
    "GROUP BY week_start;\n",
    "\n",
    "\n",
    "\n",
    "\"\"\""
   ]
  },
  {
   "cell_type": "code",
   "execution_count": 25,
   "id": "59f3064d",
   "metadata": {},
   "outputs": [
    {
     "data": {
      "text/html": [
       "<div>\n",
       "<style scoped>\n",
       "    .dataframe tbody tr th:only-of-type {\n",
       "        vertical-align: middle;\n",
       "    }\n",
       "\n",
       "    .dataframe tbody tr th {\n",
       "        vertical-align: top;\n",
       "    }\n",
       "\n",
       "    .dataframe thead th {\n",
       "        text-align: right;\n",
       "    }\n",
       "</style>\n",
       "<table border=\"1\" class=\"dataframe\">\n",
       "  <thead>\n",
       "    <tr style=\"text-align: right;\">\n",
       "      <th></th>\n",
       "      <th>order_date</th>\n",
       "      <th>total_sales</th>\n",
       "    </tr>\n",
       "  </thead>\n",
       "  <tbody>\n",
       "    <tr>\n",
       "      <th>1234</th>\n",
       "      <td>2024-07-11</td>\n",
       "      <td>1926.776</td>\n",
       "    </tr>\n",
       "  </tbody>\n",
       "</table>\n",
       "</div>"
      ],
      "text/plain": [
       "     order_date  total_sales\n",
       "1234 2024-07-11     1926.776"
      ]
     },
     "execution_count": 25,
     "metadata": {},
     "output_type": "execute_result"
    }
   ],
   "source": [
    "orders_df.groupby(\"order_date\").agg(total_sales = (\"sales\",sum)).reset_index().query(\"order_date == '2024-07-11'\")"
   ]
  },
  {
   "cell_type": "code",
   "execution_count": 26,
   "id": "5837ed3c",
   "metadata": {},
   "outputs": [
    {
     "data": {
      "text/html": [
       "<div>\n",
       "<style scoped>\n",
       "    .dataframe tbody tr th:only-of-type {\n",
       "        vertical-align: middle;\n",
       "    }\n",
       "\n",
       "    .dataframe tbody tr th {\n",
       "        vertical-align: top;\n",
       "    }\n",
       "\n",
       "    .dataframe thead th {\n",
       "        text-align: right;\n",
       "    }\n",
       "</style>\n",
       "<table border=\"1\" class=\"dataframe\">\n",
       "  <thead>\n",
       "    <tr style=\"text-align: right;\">\n",
       "      <th></th>\n",
       "      <th>order_date</th>\n",
       "      <th>total_sales</th>\n",
       "    </tr>\n",
       "  </thead>\n",
       "  <tbody>\n",
       "    <tr>\n",
       "      <th>1241</th>\n",
       "      <td>2024-07-18</td>\n",
       "      <td>716.814</td>\n",
       "    </tr>\n",
       "  </tbody>\n",
       "</table>\n",
       "</div>"
      ],
      "text/plain": [
       "     order_date  total_sales\n",
       "1241 2024-07-18      716.814"
      ]
     },
     "execution_count": 26,
     "metadata": {},
     "output_type": "execute_result"
    }
   ],
   "source": [
    "orders_df.groupby(\"order_date\").agg(total_sales = (\"sales\",sum)).reset_index().query(\"order_date == '2024-07-18'\")"
   ]
  },
  {
   "cell_type": "code",
   "execution_count": null,
   "id": "203a1350",
   "metadata": {},
   "outputs": [],
   "source": []
  }
 ],
 "metadata": {
  "kernelspec": {
   "display_name": "Python 3 (ipykernel)",
   "language": "python",
   "name": "python3"
  },
  "language_info": {
   "codemirror_mode": {
    "name": "ipython",
    "version": 3
   },
   "file_extension": ".py",
   "mimetype": "text/x-python",
   "name": "python",
   "nbconvert_exporter": "python",
   "pygments_lexer": "ipython3",
   "version": "3.9.16"
  }
 },
 "nbformat": 4,
 "nbformat_minor": 5
}
