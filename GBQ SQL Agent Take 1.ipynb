{
 "cells": [
  {
   "cell_type": "code",
   "execution_count": 1,
   "id": "038dc547",
   "metadata": {},
   "outputs": [],
   "source": [
    "from langchain_openai import ChatOpenAI\n",
    "from langchain.sql_database import SQLDatabase\n",
    "from langchain_experimental.sql import SQLDatabaseChain"
   ]
  },
  {
   "cell_type": "code",
   "execution_count": 2,
   "id": "4defec7d",
   "metadata": {},
   "outputs": [],
   "source": [
    "OPENAI_API_KEY = '#'\n",
    "model = 'gpt-4o-mini'"
   ]
  },
  {
   "cell_type": "code",
   "execution_count": 3,
   "id": "8de6858e",
   "metadata": {},
   "outputs": [],
   "source": [
    "# {\n",
    "#   \"type\": \"service_account\",\n",
    "#   \"project_id\": \"#\",\n",
    "#   \"private_key_id\": \"#4\",\n",
    "#   \"private_key\": \"#\\n\",\n",
    "#   \"client_email\": \"#\",\n",
    "#   \"client_id\": \"#\",\n",
    "#   \"auth_uri\": \"https://accounts.google.com/o/oauth2/auth\",\n",
    "#   \"token_uri\": \"https://oauth2.googleapis.com/token\",\n",
    "#   \"auth_provider_x509_cert_url\": \"https://www.googleapis.com/oauth2/v1/certs\",\n",
    "#   \"client_x509_cert_url\": \"#\"\n",
    "# }"
   ]
  },
  {
   "cell_type": "code",
   "execution_count": 8,
   "id": "24daf42c",
   "metadata": {},
   "outputs": [],
   "source": [
    "service_account_file = \"service-account-key.json\" # Change to where your service account key file is located\n",
    "\n",
    "project = \"##\"\n",
    "dataset = \"dt_maven_sample_datasets\"\n",
    "table = \"sample_data_marketing_dnk\"\n",
    "\n",
    "sqlalchemy_url = f'bigquery://{project}/{dataset}?credentials_path={service_account_file}'"
   ]
  },
  {
   "cell_type": "code",
   "execution_count": 9,
   "id": "c1646b4f",
   "metadata": {},
   "outputs": [],
   "source": [
    "from sqlalchemy import create_engine"
   ]
  },
  {
   "cell_type": "code",
   "execution_count": 10,
   "id": "9fdd5598",
   "metadata": {},
   "outputs": [],
   "source": [
    "engine = create_engine(sqlalchemy_url)"
   ]
  },
  {
   "cell_type": "code",
   "execution_count": 11,
   "id": "c321e3ef",
   "metadata": {},
   "outputs": [],
   "source": [
    "db = SQLDatabase(engine=engine,\n",
    "                  include_tables=[table])"
   ]
  },
  {
   "cell_type": "code",
   "execution_count": 12,
   "id": "8306956c",
   "metadata": {},
   "outputs": [],
   "source": [
    "# Initialize LLM\n",
    "llm = ChatOpenAI(model=model, temperature=0, openai_api_key=OPENAI_API_KEY)"
   ]
  },
  {
   "cell_type": "code",
   "execution_count": 13,
   "id": "e1986737",
   "metadata": {},
   "outputs": [],
   "source": [
    "# db = SQLDatabase.from_uri(sqlalchemy_url)"
   ]
  },
  {
   "cell_type": "code",
   "execution_count": 14,
   "id": "c777dbee",
   "metadata": {},
   "outputs": [],
   "source": [
    "db_chain = SQLDatabaseChain.from_llm(llm,\n",
    "                                      db=db,\n",
    "                                      verbose=True,\n",
    "                                      use_query_checker=True,\n",
    "                                      top_k=100,\n",
    "                                      return_sql=True\n",
    "                                      )"
   ]
  },
  {
   "cell_type": "code",
   "execution_count": 15,
   "id": "942221e9",
   "metadata": {},
   "outputs": [
    {
     "name": "stdout",
     "output_type": "stream",
     "text": [
      "\n",
      "\n",
      "\u001b[1m> Entering new SQLDatabaseChain chain...\u001b[0m\n",
      "what's the schema of this table?\n",
      "SQLQuery:\n",
      "\u001b[1m> Finished chain.\u001b[0m\n"
     ]
    }
   ],
   "source": [
    "out = db_chain.invoke(\"what's the schema of this table?\")"
   ]
  },
  {
   "cell_type": "code",
   "execution_count": 16,
   "id": "651ff5c1",
   "metadata": {},
   "outputs": [
    {
     "data": {
      "text/plain": [
       "dict_keys(['query', 'result'])"
      ]
     },
     "execution_count": 16,
     "metadata": {},
     "output_type": "execute_result"
    }
   ],
   "source": [
    "out.keys()"
   ]
  },
  {
   "cell_type": "code",
   "execution_count": 21,
   "id": "1eb9303b",
   "metadata": {},
   "outputs": [
    {
     "data": {
      "text/plain": [
       "\"SQLQuery: SELECT column_name, data_type \\nFROM `sample_data_marketing_dnk`.INFORMATION_SCHEMA.COLUMNS \\nWHERE table_name = 'sample_data_marketing_dnk' \\nORDER BY ordinal_position;\""
      ]
     },
     "execution_count": 21,
     "metadata": {},
     "output_type": "execute_result"
    }
   ],
   "source": [
    "out['result']"
   ]
  },
  {
   "cell_type": "code",
   "execution_count": 22,
   "id": "88bfc675",
   "metadata": {},
   "outputs": [
    {
     "data": {
      "text/plain": [
       "\"[('f__platform', 'STRING'), ('f__channel', 'STRING'), ('f__breakdown', 'STRING'), ('country_code', 'STRING'), ('region', 'STRING'), ('date', 'DATE'), ('refresh_ts', 'TIMESTAMP'), ('ad_group_id', 'STRING'), ('ad_group_name', 'STRING'), ('ad_id', 'STRING'), ('ad_name', 'STRING'), ('campaignid', 'STRING'), ('campaignname', 'STRING'), ('sku', 'STRING'), ('userlist_access', 'STRING'), ('product_name', 'STRING'), ('brand', 'STRING'), ('reporting_category', 'STRING'), ('reporting_subcategory', 'STRING'), ('internal_name', 'STRING'), ('internal_sku', 'STRING'), ('product_group_1', 'STRING'), ('product_group_2', 'STRING'), ('product_group_3', 'STRING'), ('product_group_4', 'STRING'), ('product_group_5', 'STRING'), ('spend', 'NUMERIC'), ('impressions', 'NUMERIC'), ('clicks', 'INT64'), ('conversions', 'INT64'), ('revenue', 'NUMERIC')]\""
      ]
     },
     "execution_count": 22,
     "metadata": {},
     "output_type": "execute_result"
    },
    {
     "ename": "",
     "evalue": "",
     "output_type": "error",
     "traceback": [
      "\u001b[1;31mThe Kernel crashed while executing code in the current cell or a previous cell. \n",
      "\u001b[1;31mPlease review the code in the cell(s) to identify a possible cause of the failure. \n",
      "\u001b[1;31mClick <a href='https://aka.ms/vscodeJupyterKernelCrash'>here</a> for more info. \n",
      "\u001b[1;31mView Jupyter <a href='command:jupyter.viewOutput'>log</a> for further details."
     ]
    }
   ],
   "source": [
    "db.run(\"\"\"SELECT column_name, data_type\n",
    "FROM `datachannel-238509.dt_maven_sample_datasets.INFORMATION_SCHEMA.COLUMNS`\n",
    "WHERE table_name = 'sample_data_marketing_dnk'\n",
    "ORDER BY ordinal_position;\"\"\")"
   ]
  },
  {
   "cell_type": "code",
   "execution_count": null,
   "id": "836dbb30",
   "metadata": {},
   "outputs": [],
   "source": []
  },
  {
   "cell_type": "code",
   "execution_count": 16,
   "id": "176c086e",
   "metadata": {},
   "outputs": [],
   "source": [
    "# toolkit = SQLDatabaseToolkit(db=db, llm=llm)\n",
    "# agent_executor = create_sql_agent(llm=llm,\n",
    "#                                     toolkit=toolkit,\n",
    "#                                     verbose=True,\n",
    "#                                     top_k=1000,\n",
    "#                                     )"
   ]
  },
  {
   "cell_type": "code",
   "execution_count": null,
   "id": "8479d06a",
   "metadata": {},
   "outputs": [],
   "source": []
  }
 ],
 "metadata": {
  "kernelspec": {
   "display_name": "Python 3 (ipykernel)",
   "language": "python",
   "name": "python3"
  },
  "language_info": {
   "codemirror_mode": {
    "name": "ipython",
    "version": 3
   },
   "file_extension": ".py",
   "mimetype": "text/x-python",
   "name": "python",
   "nbconvert_exporter": "python",
   "pygments_lexer": "ipython3",
   "version": "3.12.3"
  }
 },
 "nbformat": 4,
 "nbformat_minor": 5
}
